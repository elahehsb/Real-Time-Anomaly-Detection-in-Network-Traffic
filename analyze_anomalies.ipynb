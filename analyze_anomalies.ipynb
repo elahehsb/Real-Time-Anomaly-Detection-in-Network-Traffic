import pymongo
import pandas as pd
import matplotlib.pyplot as plt

client = pymongo.MongoClient("mongodb://localhost:27017/")
db = client["network_db"]
collection = db["anomalies"]

data = pd.DataFrame(list(collection.find()))
data['timestamp'] = pd.to_datetime(data['timestamp'], unit='s')

plt.figure(figsize=(12, 6))
plt.plot(data['timestamp'], data['bytes_sent'], label='Bytes Sent')
plt.scatter(data[data['is_anomaly'] == 1]['timestamp'], data[data['is_anomaly'] == 1]['bytes_sent'], color='red', label='Anomalies')
plt.xlabel('Timestamp')
plt.ylabel('Bytes Sent')
plt.title('Network Traffic Anomalies')
plt.legend()
plt.show()
